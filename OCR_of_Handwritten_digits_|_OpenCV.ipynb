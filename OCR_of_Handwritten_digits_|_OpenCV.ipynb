{
  "nbformat": 4,
  "nbformat_minor": 0,
  "metadata": {
    "colab": {
      "provenance": [],
      "include_colab_link": true
    },
    "kernelspec": {
      "name": "python3",
      "display_name": "Python 3"
    },
    "language_info": {
      "name": "python"
    }
  },
  "cells": [
    {
      "cell_type": "markdown",
      "metadata": {
        "id": "view-in-github",
        "colab_type": "text"
      },
      "source": [
        "<a href=\"https://colab.research.google.com/github/1shikapandey/Optical-Character-Recognition-of-handwritten-digits/blob/main/OCR_of_Handwritten_digits_%7C_OpenCV.ipynb\" target=\"_parent\"><img src=\"https://colab.research.google.com/assets/colab-badge.svg\" alt=\"Open In Colab\"/></a>"
      ]
    },
    {
      "cell_type": "code",
      "execution_count": 1,
      "metadata": {
        "colab": {
          "base_uri": "https://localhost:8080/"
        },
        "id": "AUMvXTqZrPcO",
        "outputId": "4d645463-5ca5-4e07-caa5-4067155111fe"
      },
      "outputs": [
        {
          "output_type": "stream",
          "name": "stdout",
          "text": [
            "91.64\n"
          ]
        }
      ],
      "source": [
        "import numpy as np\n",
        "import cv2\n",
        "\n",
        "\n",
        "# Read the image\n",
        "image = cv2.imread('digits1.png')\n",
        "\n",
        "# gray scale conversion\n",
        "gray_img = cv2.cvtColor(image,\n",
        "\t\t\t\t\t\tcv2.COLOR_BGR2GRAY)\n",
        "\n",
        "# We will divide the image\n",
        "# into 5000 small dimensions\n",
        "# of size 20x20\n",
        "divisions = list(np.hsplit(i,100) for i in np.vsplit(gray_img,50))\n",
        "\n",
        "# Convert into Numpy array\n",
        "# of size (50,100,20,20)\n",
        "NP_array = np.array(divisions)\n",
        "\n",
        "# Preparing train_data\n",
        "# and test_data.\n",
        "# Size will be (2500,20x20)\n",
        "train_data = NP_array[:,:50].reshape(-1,400).astype(np.float32)\n",
        "\n",
        "# Size will be (2500,20x20)\n",
        "test_data = NP_array[:,50:100].reshape(-1,400).astype(np.float32)\n",
        "\n",
        "# Create 10 different labels\n",
        "# for each type of digit\n",
        "k = np.arange(10)\n",
        "train_labels = np.repeat(k,250)[:,np.newaxis]\n",
        "test_labels = np.repeat(k,250)[:,np.newaxis]\n",
        "\n",
        "# Initiate kNN classifier\n",
        "knn = cv2.ml.KNearest_create()\n",
        "\n",
        "# perform training of data\n",
        "knn.train(train_data,\n",
        "\t\tcv2.ml.ROW_SAMPLE,\n",
        "\t\ttrain_labels)\n",
        "\n",
        "# obtain the output from the\n",
        "# classifier by specifying the\n",
        "# number of neighbors.\n",
        "ret, output ,neighbours, distance = knn.findNearest(test_data, k = 3)\n",
        "\n",
        "# Check the performance and\n",
        "# accuracy of the classifier.\n",
        "# Compare the output with test_labels\n",
        "# to find out how many are wrong.\n",
        "matched = output==test_labels\n",
        "correct_OP = np.count_nonzero(matched)\n",
        "\n",
        "#Calculate the accuracy.\n",
        "accuracy = (correct_OP*100.0)/(output.size)\n",
        "\n",
        "# Display accuracy.\n",
        "print(accuracy)\n"
      ]
    }
  ]
}